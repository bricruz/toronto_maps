{
 "cells": [
  {
   "cell_type": "code",
   "execution_count": 1,
   "metadata": {},
   "outputs": [],
   "source": [
    "import requests\n",
    "import pandas as pd"
   ]
  },
  {
   "cell_type": "code",
   "execution_count": 2,
   "metadata": {},
   "outputs": [],
   "source": [
    "import lxml.html"
   ]
  },
  {
   "cell_type": "markdown",
   "metadata": {},
   "source": [
    "### Getting the HTML from the wikipedia\n"
   ]
  },
  {
   "cell_type": "code",
   "execution_count": 3,
   "metadata": {},
   "outputs": [],
   "source": [
    "html = requests.get('https://en.wikipedia.org/wiki/List_of_postal_codes_of_Canada:_M')"
   ]
  },
  {
   "cell_type": "code",
   "execution_count": 4,
   "metadata": {},
   "outputs": [],
   "source": [
    "doc = lxml.html.fromstring(html.content)"
   ]
  },
  {
   "cell_type": "code",
   "execution_count": 5,
   "metadata": {
    "scrolled": false
   },
   "outputs": [],
   "source": [
    "##print(html.content)"
   ]
  },
  {
   "cell_type": "markdown",
   "metadata": {},
   "source": [
    "### Using XPath to scrape the table for postal codes neighborhoods and burroughs "
   ]
  },
  {
   "cell_type": "code",
   "execution_count": 6,
   "metadata": {},
   "outputs": [],
   "source": [
    "## using xpath to get all of the postal code, burrough, and neighborhood text data\n",
    "post_codes = doc.xpath('/html/body/div[3]/div[3]/div[4]/div/table[1]/tbody/tr[*]/td[1]/text()')\n",
    "burroughs = doc.xpath('/html/body/div[3]/div[3]/div[4]/div/table[1]/tbody/tr[*]/td[2]/text()')\n",
    "neighborhoods = doc.xpath('/html/body/div[3]/div[3]/div[4]/div/table[1]/tbody/tr[*]/td[3]/text()')\n",
    "pc = []\n",
    "b = []\n",
    "n = []"
   ]
  },
  {
   "cell_type": "code",
   "execution_count": 7,
   "metadata": {},
   "outputs": [],
   "source": [
    "##print(list(enumerate(post_codes)))\n",
    "for i in enumerate(post_codes):\n",
    "    ##print(i)\n",
    "    pc.append(i[1])"
   ]
  },
  {
   "cell_type": "code",
   "execution_count": 8,
   "metadata": {},
   "outputs": [],
   "source": [
    "for i in enumerate(burroughs):\n",
    "    ##print(i)\n",
    "    b.append(i[1])"
   ]
  },
  {
   "cell_type": "code",
   "execution_count": 9,
   "metadata": {
    "scrolled": false
   },
   "outputs": [],
   "source": [
    "del neighborhoods[142]\n",
    "for i in enumerate(neighborhoods):\n",
    "    ##print(i)\n",
    "    n.append(i[1])\n",
    "    \n"
   ]
  },
  {
   "cell_type": "markdown",
   "metadata": {},
   "source": [
    "### Putting the data into a Data Frame"
   ]
  },
  {
   "cell_type": "code",
   "execution_count": 10,
   "metadata": {
    "scrolled": true
   },
   "outputs": [
    {
     "data": {
      "text/html": [
       "<div>\n",
       "<style scoped>\n",
       "    .dataframe tbody tr th:only-of-type {\n",
       "        vertical-align: middle;\n",
       "    }\n",
       "\n",
       "    .dataframe tbody tr th {\n",
       "        vertical-align: top;\n",
       "    }\n",
       "\n",
       "    .dataframe thead th {\n",
       "        text-align: right;\n",
       "    }\n",
       "</style>\n",
       "<table border=\"1\" class=\"dataframe\">\n",
       "  <thead>\n",
       "    <tr style=\"text-align: right;\">\n",
       "      <th></th>\n",
       "      <th>Postal Code</th>\n",
       "      <th>Borough</th>\n",
       "      <th>Neighborhood</th>\n",
       "    </tr>\n",
       "  </thead>\n",
       "  <tbody>\n",
       "    <tr>\n",
       "      <th>0</th>\n",
       "      <td>M1A\\n</td>\n",
       "      <td>Not assigned\\n</td>\n",
       "      <td>\\n</td>\n",
       "    </tr>\n",
       "    <tr>\n",
       "      <th>1</th>\n",
       "      <td>M2A\\n</td>\n",
       "      <td>Not assigned\\n</td>\n",
       "      <td>\\n</td>\n",
       "    </tr>\n",
       "    <tr>\n",
       "      <th>2</th>\n",
       "      <td>M3A\\n</td>\n",
       "      <td>North York\\n</td>\n",
       "      <td>Parkwoods\\n</td>\n",
       "    </tr>\n",
       "    <tr>\n",
       "      <th>3</th>\n",
       "      <td>M4A\\n</td>\n",
       "      <td>North York\\n</td>\n",
       "      <td>Victoria Village\\n</td>\n",
       "    </tr>\n",
       "    <tr>\n",
       "      <th>4</th>\n",
       "      <td>M5A\\n</td>\n",
       "      <td>Downtown Toronto\\n</td>\n",
       "      <td>Regent Park / Harbourfront\\n</td>\n",
       "    </tr>\n",
       "    <tr>\n",
       "      <th>...</th>\n",
       "      <td>...</td>\n",
       "      <td>...</td>\n",
       "      <td>...</td>\n",
       "    </tr>\n",
       "    <tr>\n",
       "      <th>175</th>\n",
       "      <td>M5Z\\n</td>\n",
       "      <td>Not assigned\\n</td>\n",
       "      <td>\\n</td>\n",
       "    </tr>\n",
       "    <tr>\n",
       "      <th>176</th>\n",
       "      <td>M6Z\\n</td>\n",
       "      <td>Not assigned\\n</td>\n",
       "      <td>\\n</td>\n",
       "    </tr>\n",
       "    <tr>\n",
       "      <th>177</th>\n",
       "      <td>M7Z\\n</td>\n",
       "      <td>Not assigned\\n</td>\n",
       "      <td>\\n</td>\n",
       "    </tr>\n",
       "    <tr>\n",
       "      <th>178</th>\n",
       "      <td>M8Z\\n</td>\n",
       "      <td>Etobicoke\\n</td>\n",
       "      <td>Mimico NW / The Queensway West / South of Bloo...</td>\n",
       "    </tr>\n",
       "    <tr>\n",
       "      <th>179</th>\n",
       "      <td>M9Z\\n</td>\n",
       "      <td>Not assigned\\n</td>\n",
       "      <td>\\n</td>\n",
       "    </tr>\n",
       "  </tbody>\n",
       "</table>\n",
       "<p>180 rows × 3 columns</p>\n",
       "</div>"
      ],
      "text/plain": [
       "    Postal Code             Borough  \\\n",
       "0         M1A\\n      Not assigned\\n   \n",
       "1         M2A\\n      Not assigned\\n   \n",
       "2         M3A\\n        North York\\n   \n",
       "3         M4A\\n        North York\\n   \n",
       "4         M5A\\n  Downtown Toronto\\n   \n",
       "..          ...                 ...   \n",
       "175       M5Z\\n      Not assigned\\n   \n",
       "176       M6Z\\n      Not assigned\\n   \n",
       "177       M7Z\\n      Not assigned\\n   \n",
       "178       M8Z\\n         Etobicoke\\n   \n",
       "179       M9Z\\n      Not assigned\\n   \n",
       "\n",
       "                                          Neighborhood  \n",
       "0                                                   \\n  \n",
       "1                                                   \\n  \n",
       "2                                          Parkwoods\\n  \n",
       "3                                   Victoria Village\\n  \n",
       "4                         Regent Park / Harbourfront\\n  \n",
       "..                                                 ...  \n",
       "175                                                 \\n  \n",
       "176                                                 \\n  \n",
       "177                                                 \\n  \n",
       "178  Mimico NW / The Queensway West / South of Bloo...  \n",
       "179                                                 \\n  \n",
       "\n",
       "[180 rows x 3 columns]"
      ]
     },
     "execution_count": 10,
     "metadata": {},
     "output_type": "execute_result"
    }
   ],
   "source": [
    "toronto_dic = {'Postal Code':pc, 'Borough':b, 'Neighborhood':n}\n",
    "df_toronto = pd.DataFrame.from_dict(toronto_dic)\n",
    "df_toronto.to_csv('toronto_df1')\n",
    "df_toronto"
   ]
  },
  {
   "cell_type": "markdown",
   "metadata": {},
   "source": [
    "### Cleaning DataFrame to remove \"not assigned\" and blank rows\n"
   ]
  },
  {
   "cell_type": "code",
   "execution_count": 11,
   "metadata": {},
   "outputs": [
    {
     "data": {
      "text/html": [
       "<div>\n",
       "<style scoped>\n",
       "    .dataframe tbody tr th:only-of-type {\n",
       "        vertical-align: middle;\n",
       "    }\n",
       "\n",
       "    .dataframe tbody tr th {\n",
       "        vertical-align: top;\n",
       "    }\n",
       "\n",
       "    .dataframe thead th {\n",
       "        text-align: right;\n",
       "    }\n",
       "</style>\n",
       "<table border=\"1\" class=\"dataframe\">\n",
       "  <thead>\n",
       "    <tr style=\"text-align: right;\">\n",
       "      <th></th>\n",
       "      <th>Postal Code</th>\n",
       "      <th>Borough</th>\n",
       "      <th>Neighborhood</th>\n",
       "    </tr>\n",
       "  </thead>\n",
       "  <tbody>\n",
       "    <tr>\n",
       "      <th>0</th>\n",
       "      <td>M1A</td>\n",
       "      <td>Not assigned</td>\n",
       "      <td></td>\n",
       "    </tr>\n",
       "    <tr>\n",
       "      <th>1</th>\n",
       "      <td>M2A</td>\n",
       "      <td>Not assigned</td>\n",
       "      <td></td>\n",
       "    </tr>\n",
       "    <tr>\n",
       "      <th>2</th>\n",
       "      <td>M3A</td>\n",
       "      <td>North York</td>\n",
       "      <td>Parkwoods</td>\n",
       "    </tr>\n",
       "    <tr>\n",
       "      <th>3</th>\n",
       "      <td>M4A</td>\n",
       "      <td>North York</td>\n",
       "      <td>Victoria Village</td>\n",
       "    </tr>\n",
       "    <tr>\n",
       "      <th>4</th>\n",
       "      <td>M5A</td>\n",
       "      <td>Downtown Toronto</td>\n",
       "      <td>Regent Park / Harbourfront</td>\n",
       "    </tr>\n",
       "    <tr>\n",
       "      <th>5</th>\n",
       "      <td>M6A</td>\n",
       "      <td>North York</td>\n",
       "      <td>Lawrence Manor / Lawrence Heights</td>\n",
       "    </tr>\n",
       "    <tr>\n",
       "      <th>6</th>\n",
       "      <td>M7A</td>\n",
       "      <td>Downtown Toronto</td>\n",
       "      <td>Queen's Park / Ontario Provincial Government</td>\n",
       "    </tr>\n",
       "    <tr>\n",
       "      <th>7</th>\n",
       "      <td>M8A</td>\n",
       "      <td>Not assigned</td>\n",
       "      <td></td>\n",
       "    </tr>\n",
       "    <tr>\n",
       "      <th>8</th>\n",
       "      <td>M9A</td>\n",
       "      <td>Etobicoke</td>\n",
       "      <td>Islington Avenue</td>\n",
       "    </tr>\n",
       "    <tr>\n",
       "      <th>9</th>\n",
       "      <td>M1B</td>\n",
       "      <td>Scarborough</td>\n",
       "      <td>Malvern / Rouge</td>\n",
       "    </tr>\n",
       "  </tbody>\n",
       "</table>\n",
       "</div>"
      ],
      "text/plain": [
       "  Postal Code           Borough                                  Neighborhood\n",
       "0         M1A      Not assigned                                              \n",
       "1         M2A      Not assigned                                              \n",
       "2         M3A        North York                                     Parkwoods\n",
       "3         M4A        North York                              Victoria Village\n",
       "4         M5A  Downtown Toronto                    Regent Park / Harbourfront\n",
       "5         M6A        North York             Lawrence Manor / Lawrence Heights\n",
       "6         M7A  Downtown Toronto  Queen's Park / Ontario Provincial Government\n",
       "7         M8A      Not assigned                                              \n",
       "8         M9A         Etobicoke                              Islington Avenue\n",
       "9         M1B       Scarborough                               Malvern / Rouge"
      ]
     },
     "execution_count": 11,
     "metadata": {},
     "output_type": "execute_result"
    }
   ],
   "source": [
    "\n",
    "df_toronto['Postal Code'] = df_toronto['Postal Code'].str.replace('\\n','')\n",
    "df_toronto['Borough'] = df_toronto['Borough'].str.replace('\\n','')\n",
    "df_toronto['Neighborhood'] = df_toronto['Neighborhood'].str.replace('\\n','')\n",
    "df_toronto.head(10)"
   ]
  },
  {
   "cell_type": "markdown",
   "metadata": {},
   "source": [
    "### New clean data frame below"
   ]
  },
  {
   "cell_type": "code",
   "execution_count": 12,
   "metadata": {},
   "outputs": [
    {
     "name": "stderr",
     "output_type": "stream",
     "text": [
      "C:\\Users\\brcruz\\Anaconda3\\lib\\site-packages\\ipykernel_launcher.py:3: SettingWithCopyWarning: \n",
      "A value is trying to be set on a copy of a slice from a DataFrame.\n",
      "Try using .loc[row_indexer,col_indexer] = value instead\n",
      "\n",
      "See the caveats in the documentation: https://pandas.pydata.org/pandas-docs/stable/user_guide/indexing.html#returning-a-view-versus-a-copy\n",
      "  This is separate from the ipykernel package so we can avoid doing imports until\n"
     ]
    },
    {
     "data": {
      "text/html": [
       "<div>\n",
       "<style scoped>\n",
       "    .dataframe tbody tr th:only-of-type {\n",
       "        vertical-align: middle;\n",
       "    }\n",
       "\n",
       "    .dataframe tbody tr th {\n",
       "        vertical-align: top;\n",
       "    }\n",
       "\n",
       "    .dataframe thead th {\n",
       "        text-align: right;\n",
       "    }\n",
       "</style>\n",
       "<table border=\"1\" class=\"dataframe\">\n",
       "  <thead>\n",
       "    <tr style=\"text-align: right;\">\n",
       "      <th></th>\n",
       "      <th>Postal Code</th>\n",
       "      <th>Borough</th>\n",
       "      <th>Neighborhood</th>\n",
       "    </tr>\n",
       "  </thead>\n",
       "  <tbody>\n",
       "    <tr>\n",
       "      <th>2</th>\n",
       "      <td>M3A</td>\n",
       "      <td>North York</td>\n",
       "      <td>Parkwoods</td>\n",
       "    </tr>\n",
       "    <tr>\n",
       "      <th>3</th>\n",
       "      <td>M4A</td>\n",
       "      <td>North York</td>\n",
       "      <td>Victoria Village</td>\n",
       "    </tr>\n",
       "    <tr>\n",
       "      <th>4</th>\n",
       "      <td>M5A</td>\n",
       "      <td>Downtown Toronto</td>\n",
       "      <td>Regent Park, Harbourfront</td>\n",
       "    </tr>\n",
       "    <tr>\n",
       "      <th>5</th>\n",
       "      <td>M6A</td>\n",
       "      <td>North York</td>\n",
       "      <td>Lawrence Manor, Lawrence Heights</td>\n",
       "    </tr>\n",
       "    <tr>\n",
       "      <th>6</th>\n",
       "      <td>M7A</td>\n",
       "      <td>Downtown Toronto</td>\n",
       "      <td>Queen's Park, Ontario Provincial Government</td>\n",
       "    </tr>\n",
       "    <tr>\n",
       "      <th>...</th>\n",
       "      <td>...</td>\n",
       "      <td>...</td>\n",
       "      <td>...</td>\n",
       "    </tr>\n",
       "    <tr>\n",
       "      <th>160</th>\n",
       "      <td>M8X</td>\n",
       "      <td>Etobicoke</td>\n",
       "      <td>The Kingsway, Montgomery Road , Old Mill North</td>\n",
       "    </tr>\n",
       "    <tr>\n",
       "      <th>165</th>\n",
       "      <td>M4Y</td>\n",
       "      <td>Downtown Toronto</td>\n",
       "      <td>Church and Wellesley</td>\n",
       "    </tr>\n",
       "    <tr>\n",
       "      <th>168</th>\n",
       "      <td>M7Y</td>\n",
       "      <td>East Toronto</td>\n",
       "      <td>Business reply mail Processing CentrE</td>\n",
       "    </tr>\n",
       "    <tr>\n",
       "      <th>169</th>\n",
       "      <td>M8Y</td>\n",
       "      <td>Etobicoke</td>\n",
       "      <td>Old Mill South, King's Mill Park, Sunnylea, Hu...</td>\n",
       "    </tr>\n",
       "    <tr>\n",
       "      <th>178</th>\n",
       "      <td>M8Z</td>\n",
       "      <td>Etobicoke</td>\n",
       "      <td>Mimico NW, The Queensway West, South of Bloor,...</td>\n",
       "    </tr>\n",
       "  </tbody>\n",
       "</table>\n",
       "<p>103 rows × 3 columns</p>\n",
       "</div>"
      ],
      "text/plain": [
       "    Postal Code           Borough  \\\n",
       "2           M3A        North York   \n",
       "3           M4A        North York   \n",
       "4           M5A  Downtown Toronto   \n",
       "5           M6A        North York   \n",
       "6           M7A  Downtown Toronto   \n",
       "..          ...               ...   \n",
       "160         M8X         Etobicoke   \n",
       "165         M4Y  Downtown Toronto   \n",
       "168         M7Y      East Toronto   \n",
       "169         M8Y         Etobicoke   \n",
       "178         M8Z         Etobicoke   \n",
       "\n",
       "                                          Neighborhood  \n",
       "2                                            Parkwoods  \n",
       "3                                     Victoria Village  \n",
       "4                            Regent Park, Harbourfront  \n",
       "5                     Lawrence Manor, Lawrence Heights  \n",
       "6          Queen's Park, Ontario Provincial Government  \n",
       "..                                                 ...  \n",
       "160     The Kingsway, Montgomery Road , Old Mill North  \n",
       "165                               Church and Wellesley  \n",
       "168              Business reply mail Processing CentrE  \n",
       "169  Old Mill South, King's Mill Park, Sunnylea, Hu...  \n",
       "178  Mimico NW, The Queensway West, South of Bloor,...  \n",
       "\n",
       "[103 rows x 3 columns]"
      ]
     },
     "execution_count": 12,
     "metadata": {},
     "output_type": "execute_result"
    }
   ],
   "source": [
    "#removing all rows where neighborhood is not assigned and replacing \"/\" with commas in Neighborhood column\n",
    "dft_new = df_toronto[df_toronto.Borough != 'Not assigned']\n",
    "dft_new['Neighborhood'] = dft_new['Neighborhood'].str.replace(' /',',')\n",
    "dft_new"
   ]
  },
  {
   "cell_type": "markdown",
   "metadata": {},
   "source": [
    "## reading the csv with Lat/Long  coords "
   ]
  },
  {
   "cell_type": "code",
   "execution_count": 13,
   "metadata": {},
   "outputs": [],
   "source": [
    "g_coords = pd.read_csv(\"https://cocl.us/Geospatial_data\")"
   ]
  },
  {
   "cell_type": "code",
   "execution_count": 14,
   "metadata": {},
   "outputs": [
    {
     "data": {
      "text/html": [
       "<div>\n",
       "<style scoped>\n",
       "    .dataframe tbody tr th:only-of-type {\n",
       "        vertical-align: middle;\n",
       "    }\n",
       "\n",
       "    .dataframe tbody tr th {\n",
       "        vertical-align: top;\n",
       "    }\n",
       "\n",
       "    .dataframe thead th {\n",
       "        text-align: right;\n",
       "    }\n",
       "</style>\n",
       "<table border=\"1\" class=\"dataframe\">\n",
       "  <thead>\n",
       "    <tr style=\"text-align: right;\">\n",
       "      <th></th>\n",
       "      <th>Postal Code</th>\n",
       "      <th>Latitude</th>\n",
       "      <th>Longitude</th>\n",
       "    </tr>\n",
       "  </thead>\n",
       "  <tbody>\n",
       "    <tr>\n",
       "      <th>0</th>\n",
       "      <td>M1B</td>\n",
       "      <td>43.806686</td>\n",
       "      <td>-79.194353</td>\n",
       "    </tr>\n",
       "    <tr>\n",
       "      <th>1</th>\n",
       "      <td>M1C</td>\n",
       "      <td>43.784535</td>\n",
       "      <td>-79.160497</td>\n",
       "    </tr>\n",
       "    <tr>\n",
       "      <th>2</th>\n",
       "      <td>M1E</td>\n",
       "      <td>43.763573</td>\n",
       "      <td>-79.188711</td>\n",
       "    </tr>\n",
       "    <tr>\n",
       "      <th>3</th>\n",
       "      <td>M1G</td>\n",
       "      <td>43.770992</td>\n",
       "      <td>-79.216917</td>\n",
       "    </tr>\n",
       "    <tr>\n",
       "      <th>4</th>\n",
       "      <td>M1H</td>\n",
       "      <td>43.773136</td>\n",
       "      <td>-79.239476</td>\n",
       "    </tr>\n",
       "  </tbody>\n",
       "</table>\n",
       "</div>"
      ],
      "text/plain": [
       "  Postal Code   Latitude  Longitude\n",
       "0         M1B  43.806686 -79.194353\n",
       "1         M1C  43.784535 -79.160497\n",
       "2         M1E  43.763573 -79.188711\n",
       "3         M1G  43.770992 -79.216917\n",
       "4         M1H  43.773136 -79.239476"
      ]
     },
     "execution_count": 14,
     "metadata": {},
     "output_type": "execute_result"
    }
   ],
   "source": [
    "g_coords.head()"
   ]
  },
  {
   "cell_type": "markdown",
   "metadata": {},
   "source": [
    "## Merging coordinate dataframe with the Toronto dataframe on Postal Code column"
   ]
  },
  {
   "cell_type": "code",
   "execution_count": 34,
   "metadata": {},
   "outputs": [],
   "source": [
    "merged = g_coords.merge(dft_new, on='Postal Code')\n",
    "merged = merged.reindex(columns = ['Postal Code','Borough','Neighborhood','Latitude','Longitude'])"
   ]
  },
  {
   "cell_type": "code",
   "execution_count": 35,
   "metadata": {},
   "outputs": [
    {
     "data": {
      "text/html": [
       "<div>\n",
       "<style scoped>\n",
       "    .dataframe tbody tr th:only-of-type {\n",
       "        vertical-align: middle;\n",
       "    }\n",
       "\n",
       "    .dataframe tbody tr th {\n",
       "        vertical-align: top;\n",
       "    }\n",
       "\n",
       "    .dataframe thead th {\n",
       "        text-align: right;\n",
       "    }\n",
       "</style>\n",
       "<table border=\"1\" class=\"dataframe\">\n",
       "  <thead>\n",
       "    <tr style=\"text-align: right;\">\n",
       "      <th></th>\n",
       "      <th>Postal Code</th>\n",
       "      <th>Borough</th>\n",
       "      <th>Neighborhood</th>\n",
       "      <th>Latitude</th>\n",
       "      <th>Longitude</th>\n",
       "    </tr>\n",
       "  </thead>\n",
       "  <tbody>\n",
       "    <tr>\n",
       "      <th>0</th>\n",
       "      <td>M1B</td>\n",
       "      <td>Scarborough</td>\n",
       "      <td>Malvern, Rouge</td>\n",
       "      <td>43.806686</td>\n",
       "      <td>-79.194353</td>\n",
       "    </tr>\n",
       "    <tr>\n",
       "      <th>1</th>\n",
       "      <td>M1C</td>\n",
       "      <td>Scarborough</td>\n",
       "      <td>Rouge Hill, Port Union, Highland Creek</td>\n",
       "      <td>43.784535</td>\n",
       "      <td>-79.160497</td>\n",
       "    </tr>\n",
       "    <tr>\n",
       "      <th>2</th>\n",
       "      <td>M1E</td>\n",
       "      <td>Scarborough</td>\n",
       "      <td>Guildwood, Morningside, West Hill</td>\n",
       "      <td>43.763573</td>\n",
       "      <td>-79.188711</td>\n",
       "    </tr>\n",
       "    <tr>\n",
       "      <th>3</th>\n",
       "      <td>M1G</td>\n",
       "      <td>Scarborough</td>\n",
       "      <td>Woburn</td>\n",
       "      <td>43.770992</td>\n",
       "      <td>-79.216917</td>\n",
       "    </tr>\n",
       "    <tr>\n",
       "      <th>4</th>\n",
       "      <td>M1H</td>\n",
       "      <td>Scarborough</td>\n",
       "      <td>Cedarbrae</td>\n",
       "      <td>43.773136</td>\n",
       "      <td>-79.239476</td>\n",
       "    </tr>\n",
       "  </tbody>\n",
       "</table>\n",
       "</div>"
      ],
      "text/plain": [
       "  Postal Code      Borough                            Neighborhood   Latitude  \\\n",
       "0         M1B  Scarborough                          Malvern, Rouge  43.806686   \n",
       "1         M1C  Scarborough  Rouge Hill, Port Union, Highland Creek  43.784535   \n",
       "2         M1E  Scarborough       Guildwood, Morningside, West Hill  43.763573   \n",
       "3         M1G  Scarborough                                  Woburn  43.770992   \n",
       "4         M1H  Scarborough                               Cedarbrae  43.773136   \n",
       "\n",
       "   Longitude  \n",
       "0 -79.194353  \n",
       "1 -79.160497  \n",
       "2 -79.188711  \n",
       "3 -79.216917  \n",
       "4 -79.239476  "
      ]
     },
     "execution_count": 35,
     "metadata": {},
     "output_type": "execute_result"
    }
   ],
   "source": [
    "merged.head()"
   ]
  },
  {
   "cell_type": "code",
   "execution_count": 17,
   "metadata": {},
   "outputs": [
    {
     "name": "stdout",
     "output_type": "stream",
     "text": [
      "Collecting package metadata (current_repodata.json): ...working... done\n",
      "Solving environment: ...working... done\n",
      "\n",
      "# All requested packages already installed.\n",
      "\n",
      "\n",
      "Note: you may need to restart the kernel to use updated packages.\n"
     ]
    }
   ],
   "source": [
    "conda install -c conda-forge folium\n"
   ]
  },
  {
   "cell_type": "code",
   "execution_count": 19,
   "metadata": {},
   "outputs": [
    {
     "name": "stdout",
     "output_type": "stream",
     "text": [
      "Collecting package metadata (current_repodata.json): ...working... done\n",
      "Solving environment: ...working... done\n",
      "\n",
      "## Package Plan ##\n",
      "\n",
      "  environment location: C:\\Users\\brcruz\\Anaconda3\n",
      "\n",
      "  added / updated specs:\n",
      "    - geopy\n",
      "\n",
      "\n",
      "The following packages will be downloaded:\n",
      "\n",
      "    package                    |            build\n",
      "    ---------------------------|-----------------\n",
      "    geographiclib-1.50         |             py_0          34 KB  conda-forge\n",
      "    geopy-1.21.0               |             py_0          58 KB  conda-forge\n",
      "    ------------------------------------------------------------\n",
      "                                           Total:          92 KB\n",
      "\n",
      "The following NEW packages will be INSTALLED:\n",
      "\n",
      "  geographiclib      conda-forge/noarch::geographiclib-1.50-py_0\n",
      "  geopy              conda-forge/noarch::geopy-1.21.0-py_0\n",
      "\n",
      "\n",
      "\n",
      "Downloading and Extracting Packages\n",
      "\n",
      "geographiclib-1.50   | 34 KB     |            |   0% \n",
      "geographiclib-1.50   | 34 KB     | ####7      |  47% \n",
      "geographiclib-1.50   | 34 KB     | ########## | 100% \n",
      "\n",
      "geopy-1.21.0         | 58 KB     |            |   0% \n",
      "geopy-1.21.0         | 58 KB     | ########## | 100% \n",
      "Preparing transaction: ...working... done\n",
      "Verifying transaction: ...working... done\n",
      "Executing transaction: ...working... done\n"
     ]
    }
   ],
   "source": [
    "!conda install -c conda-forge geopy --yes"
   ]
  },
  {
   "cell_type": "code",
   "execution_count": 20,
   "metadata": {},
   "outputs": [],
   "source": [
    "from geopy.geocoders import Nominatim\n",
    "import matplotlib.cm as cm\n",
    "import matplotlib.colors as colors\n",
    "from sklearn.cluster import KMeans"
   ]
  },
  {
   "cell_type": "markdown",
   "metadata": {},
   "source": [
    "## Map of Toronto data with neighborhood, borough labels  "
   ]
  },
  {
   "cell_type": "code",
   "execution_count": 28,
   "metadata": {},
   "outputs": [
    {
     "name": "stdout",
     "output_type": "stream",
     "text": [
      "The geo coordinates of CA are 43.806122200000004,-79.28893950073736\n"
     ]
    }
   ],
   "source": [
    "address = 'Scarboro, Toronto'\n",
    "geolocator = Nominatim(user_agent = \"ca_explorer\")\n",
    "location = geolocator.geocode(address)\n",
    "latitude = location.latitude\n",
    "longitude = location.longitude\n",
    "print('The geo coordinates of CA are {},{}'.format(latitude,longitude))"
   ]
  },
  {
   "cell_type": "code",
   "execution_count": 31,
   "metadata": {},
   "outputs": [
    {
     "data": {
      "text/html": [
       "<div style=\"width:100%;\"><div style=\"position:relative;width:100%;height:0;padding-bottom:60%;\"><iframe src=\"about:blank\" style=\"position:absolute;width:100%;height:100%;left:0;top:0;border:none !important;\" data-html=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 onload=\"this.contentDocument.open();this.contentDocument.write(atob(this.getAttribute('data-html')));this.contentDocument.close();\" allowfullscreen webkitallowfullscreen mozallowfullscreen></iframe></div></div>"
      ],
      "text/plain": [
       "<folium.folium.Map at 0x1d9d4310648>"
      ]
     },
     "execution_count": 31,
     "metadata": {},
     "output_type": "execute_result"
    }
   ],
   "source": [
    "map_ca = folium.Map(location=[latitude,longitude],zoom_start =10)\n",
    "\n",
    "for lat, lng, borough, neighborhoods in zip(merged['Latitude'],merged['Longitude'],merged['Borough'],merged['Neighborhood']):\n",
    "    label = '{},{}'.format(neighborhoods, borough)\n",
    "    label = folium.Popup(label, parse_html=True)\n",
    "    folium.CircleMarker(\n",
    "    [lat,lng],\n",
    "    radius = 5,\n",
    "    popup = label,\n",
    "    color = 'blue',\n",
    "    fill = True,\n",
    "    fill_color = '#3186cc',\n",
    "    fill_opacity = 0.7,\n",
    "    parse_html=False).add_to(map_ca)\n",
    "map_ca"
   ]
  },
  {
   "cell_type": "code",
   "execution_count": null,
   "metadata": {},
   "outputs": [],
   "source": []
  }
 ],
 "metadata": {
  "kernelspec": {
   "display_name": "Python 3",
   "language": "python",
   "name": "python3"
  },
  "language_info": {
   "codemirror_mode": {
    "name": "ipython",
    "version": 3
   },
   "file_extension": ".py",
   "mimetype": "text/x-python",
   "name": "python",
   "nbconvert_exporter": "python",
   "pygments_lexer": "ipython3",
   "version": "3.7.6"
  }
 },
 "nbformat": 4,
 "nbformat_minor": 4
}
